#Registration system
# registration_system.py
import cv2
import tkinter as tk
from tkinter import ttk, filedialog, messagebox
from PIL import Image
import os

class RegistrationSystem:
    def __init__(self):
        self.registration_folder = "registered_users"
        os.makedirs(self.registration_folder, exist_ok=True)
        
        self.root = tk.Tk()
        self.root.title("Student Registration")
        self.root.geometry("400x300")
        
        self.create_ui()
        self.root.mainloop()

    def create_ui(self):
        main_frame = ttk.Frame(self.root, padding=20)
        main_frame.pack(expand=True, fill='both')
        
        self.student_id_var = tk.StringVar()
        
        ttk.Label(main_frame, text="Student ID:").grid(row=0, column=0, sticky='w', pady=5)
        ttk.Entry(main_frame, textvariable=self.student_id_var, width=25).grid(row=0, column=1, pady=5)
        
        ttk.Button(main_frame, text="Capture Webcam Image", 
                 command=self.capture_webcam_image).grid(row=1, column=0, columnspan=2, pady=10)
        ttk.Button(main_frame, text="Upload Image", 
                 command=self.upload_image).grid(row=2, column=0, columnspan=2, pady=10)
        
        self.status_label = ttk.Label(main_frame, text="", foreground="red")
        self.status_label.grid(row=3, column=0, columnspan=2, pady=10)

    def validate_id(self):
        student_id = self.student_id_var.get().strip()
        if not student_id:
            self.status_label.config(text="Please enter Student ID!")
            return False
        if any(c in student_id for c in " /\\:*?\"<>|"):
            self.status_label.config(text="Invalid characters in Student ID!")
            return False
        return True

    def capture_webcam_image(self):
        if not self.validate_id():
            return
        
        cap = cv2.VideoCapture(0)
        if not cap.isOpened():
            messagebox.showerror("Error", "Could not access webcam")
            return
        
        capture_window = tk.Toplevel(self.root)
        capture_window.title("Webcam Capture")
        
        video_label = ttk.Label(capture_window)
        video_label.pack(padx=10, pady=10)
        
        def update_frame():
            ret, frame = cap.read()
            if ret:
                frame = cv2.cvtColor(frame, cv2.COLOR_BGR2RGB)
                img = Image.fromarray(frame)
                imgtk = ImageTk.PhotoImage(image=img)
                video_label.imgtk = imgtk
                video_label.configure(image=imgtk)
                capture_window.after(10, update_frame)
            else:
                cap.release()
        
        def save_image():
            ret, frame = cap.read()
            if ret:
                student_id = self.student_id_var.get().strip()
                save_path = os.path.join(self.registration_folder, f"{student_id}.jpg")
                Image.fromarray(cv2.cvtColor(frame, cv2.COLOR_BGR2RGB)).save(save_path, "JPEG", quality=85)
                messagebox.showinfo("Success", "Registration successful!")
                cap.release()
                capture_window.destroy()
        
        ttk.Button(capture_window, text="Capture", command=save_image).pack(pady=10)
        update_frame()

    def upload_image(self):
        if not self.validate_id():
            return
        
        file_types = [("Image files", "*.jpg *.jpeg *.png")]
        file_path = filedialog.askopenfilename(filetypes=file_types)
        if not file_path:
            return
        
        try:
            student_id = self.student_id_var.get().strip()
            save_path = os.path.join(self.registration_folder, f"{student_id}.jpg")
            Image.open(file_path).convert('RGB').save(save_path, "JPEG", quality=85)
            messagebox.showinfo("Success", "Registration successful!")
        except Exception as e:
            messagebox.showerror("Error", f"Failed to save image: {str(e)}")

if __name__ == "__main__":
    RegistrationSystem()
